{
 "cells": [
  {
   "cell_type": "code",
   "execution_count": null,
   "id": "23bea726",
   "metadata": {},
   "outputs": [],
   "source": [
    "#Installation of libraries and packages\n",
    "import os\n",
    "import cv2\n",
    "import time\n",
    "import uuid"
   ]
  },
  {
   "cell_type": "code",
   "execution_count": null,
   "id": "0136cc91",
   "metadata": {},
   "outputs": [],
   "source": [
    "#Creating a new folder to save our captured images\n",
    "IMAGES_PATH = 'Tensorflow/workspace/images/collectedimages'"
   ]
  },
  {
   "cell_type": "code",
   "execution_count": null,
   "id": "2344b424",
   "metadata": {},
   "outputs": [],
   "source": [
    "#Labels that we will create\n",
    "labels = ['hello', 'yes', 'no', 'thankyou', 'iloveyou']\n",
    "\n",
    "#Number of images for each label to be collected\n",
    "number_images = 15"
   ]
  },
  {
   "cell_type": "code",
   "execution_count": null,
   "id": "5d175f1a",
   "metadata": {},
   "outputs": [],
   "source": [
    "#Code for capturing images for labels and storing them\n",
    "for label in labels:\n",
    "  !mkdir {'Tensorflow/workspace/images/collectedimages//'+label}\n",
    "  cap = cv2.VideoCapture(0)\n",
    "  print('Capturing video for {}'.format(label))\n",
    "  time.sleep(2)\n",
    "  for imgnum in range(number_images):\n",
    "    ret, frame = cap.read()\n",
    "    imgname = os.path.join(IMAGES_PATH, label, label + '.' + '{}.jpg'.format(str(uuid.uuid1())))\n",
    "    cv2.imwrite(imgname, frame)\n",
    "    cv2.imshow(\"frame\", frame)\n",
    "    time.sleep(5)\n",
    "\n",
    "    if cv2.waitKey(1) & 0xFF == ord('q'):\n",
    "      break\n",
    "  cap.release()\n"
   ]
  }
 ],
 "metadata": {
  "kernelspec": {
   "display_name": "Python [conda env:ds_env] *",
   "language": "python",
   "name": "conda-env-ds_env-py"
  },
  "language_info": {
   "codemirror_mode": {
    "name": "ipython",
    "version": 3
   },
   "file_extension": ".py",
   "mimetype": "text/x-python",
   "name": "python",
   "nbconvert_exporter": "python",
   "pygments_lexer": "ipython3",
   "version": "3.10.9"
  }
 },
 "nbformat": 4,
 "nbformat_minor": 5
}
